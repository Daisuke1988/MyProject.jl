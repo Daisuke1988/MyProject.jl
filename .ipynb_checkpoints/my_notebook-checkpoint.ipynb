{
 "cells": [
  {
   "cell_type": "code",
   "execution_count": null,
   "id": "ed329ee4-899a-4e2b-9358-4c3e2c76657e",
   "metadata": {},
   "outputs": [],
   "source": [
    "using MyProject"
   ]
  },
  {
   "cell_type": "code",
   "execution_count": null,
   "id": "f69f1f30-dcdf-44e1-8b38-851af201d5de",
   "metadata": {},
   "outputs": [],
   "source": [
    "foo(0)"
   ]
  },
  {
   "cell_type": "code",
   "execution_count": null,
   "id": "6f09a0d8-d163-42d9-b124-e0ccc6f2057a",
   "metadata": {},
   "outputs": [],
   "source": []
  }
 ],
 "metadata": {
  "kernelspec": {
   "display_name": "Julia 1.10.2",
   "language": "julia",
   "name": "julia-1.10"
  },
  "language_info": {
   "file_extension": ".jl",
   "mimetype": "application/julia",
   "name": "julia",
   "version": "1.10.2"
  }
 },
 "nbformat": 4,
 "nbformat_minor": 5
}
